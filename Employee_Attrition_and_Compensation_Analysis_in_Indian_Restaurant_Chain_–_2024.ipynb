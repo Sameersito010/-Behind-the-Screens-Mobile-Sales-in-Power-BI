{
  "nbformat": 4,
  "nbformat_minor": 0,
  "metadata": {
    "colab": {
      "provenance": [],
      "authorship_tag": "ABX9TyMDAhHeDBPIA8z6rx9nZbE6",
      "include_colab_link": true
    },
    "kernelspec": {
      "name": "python3",
      "display_name": "Python 3"
    },
    "language_info": {
      "name": "python"
    }
  },
  "cells": [
    {
      "cell_type": "markdown",
      "metadata": {
        "id": "view-in-github",
        "colab_type": "text"
      },
      "source": [
        "<a href=\"https://colab.research.google.com/github/Sameersito010/-Behind-the-Screens-Mobile-Sales-in-Power-BI/blob/main/Employee_Attrition_and_Compensation_Analysis_in_Indian_Restaurant_Chain_%E2%80%93_2024.ipynb\" target=\"_parent\"><img src=\"https://colab.research.google.com/assets/colab-badge.svg\" alt=\"Open In Colab\"/></a>"
      ]
    },
    {
      "cell_type": "code",
      "execution_count": null,
      "metadata": {
        "id": "-T4xBTgLTg8_"
      },
      "outputs": [],
      "source": []
    }
  ]
}